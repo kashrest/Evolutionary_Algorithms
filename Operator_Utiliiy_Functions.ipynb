{
 "cells": [
  {
   "cell_type": "code",
   "execution_count": 33,
   "metadata": {},
   "outputs": [],
   "source": [
    "import random\n",
    "random.seed(27)"
   ]
  },
  {
   "cell_type": "code",
   "execution_count": null,
   "metadata": {},
   "outputs": [],
   "source": [
    "class GeneticAlgorithm:\n",
    "    def __init__(self, population_size, crossover_probability, mutation_probability, generation_gap):\n",
    "        self.population_size = population_size\n",
    "        self.crossover_probability = crossover_probability\n",
    "        self.mutation_probability = mutation_probability\n",
    "        self.generation_gap = generation_gap\n",
    "        \n",
    "    def encode_parameters(self, parameters):\n",
    "        '''\n",
    "        Input:\n",
    "            - parameters: an array\n",
    "        '''\n",
    "        return\n",
    "    \n",
    "    def reproduction(self, chromosomes, fitness_function):\n",
    "        '''\n",
    "        Inputs:\n",
    "            - chromosomes: an array-like object containing strings of 0s and 1s representing an encoding of a parameter\n",
    "                           for a problem\n",
    "            - fitness_function: a function that takes in a chromosome and outputs an integer (fitness score)\n",
    "        Outputs:\n",
    "            - parent: index of the element in input chromosomes that is chosen using the biased roulette-wheel technique \n",
    "\n",
    "        Given a set of strings (chromosomes) and an evaluating (fitness) function, based on the fitness score output by that \n",
    "        function a biased roulette-wheel, or weighted random choice, will pick the chromosome that will move forward \n",
    "        to procreate. \n",
    "\n",
    "        Since chromosomes here encode parameters, essentially parameters that preform well\n",
    "        will be picked more often and the search will tend towards improvement on the problem.\n",
    "        '''\n",
    "        fitness_values = [fitness_function(c) for c in chromosomes]\n",
    "        print(fitness_values)\n",
    "        # this should be made into a class, and running total should be calculated only once\n",
    "        running_total = []\n",
    "        for i in range(len(fitness_values)):\n",
    "            if(i==0):\n",
    "                running_total.append(fitness_values[i])\n",
    "            else:\n",
    "                running_total.append(fitness_values[i]+running_total[i-1])\n",
    "\n",
    "        # pick the parent\n",
    "        spin = random.randint(0, running_total[len(running_total)-1])\n",
    "        for i in range(len(running_total)):\n",
    "            parent = running_total[i]\n",
    "            if(parent >= spin):\n",
    "                return i\n",
    "    \n",
    "    "
   ]
  },
  {
   "cell_type": "code",
   "execution_count": null,
   "metadata": {},
   "outputs": [],
   "source": [
    "\n",
    "def crossover(self, parent1, parent2):\n",
    "    '''\n",
    "    Inputs:\n",
    "        - parent1: a string of 0s and 1s representing an encoding of a parameter for a problem\n",
    "        - parent2: a string of 0s and 1s representing an encoding of a parameter for a problem\n",
    "        constraint: both input strings must be of same length\n",
    "    Outputs:\n",
    "        - child: a string of 0s and 1s representing an encoding of a parameter that is the sum of a recombination\n",
    "                 or crossing of the inputs parent1 and parent2\n",
    "        \n",
    "    Given two strings (chromosomes) parent1 and parent2, based on a probability p_c (crossover probability), a \n",
    "    random index is picked for both strings and the characters (bits) including and beyond the chosen index\n",
    "    will be exchanged between the two strings. Bit-wise addition (OR) will be preformed to add the (possibly) recombined \n",
    "    parent strings to produce the output child string.\n",
    "    \n",
    "    This is a simulation of parent gene recombination.\n",
    "    '''\n",
    "    willCrossover = (random.random() <= self.crossover_probability)\n",
    "    \n",
    "    "
   ]
  },
  {
   "cell_type": "code",
   "execution_count": 31,
   "metadata": {},
   "outputs": [
    {
     "name": "stdout",
     "output_type": "stream",
     "text": [
      "[21, 16, 23, 9, 10, 7, 3, 3, 9, 27, 18]\n"
     ]
    },
    {
     "data": {
      "text/plain": [
       "5"
      ]
     },
     "execution_count": 31,
     "metadata": {},
     "output_type": "execute_result"
    }
   ],
   "source": [
    "chromosomes = ['10010', '11100', '11100', '11100', '11100', '11100', '11100', '11100', '11100', '11100', '11100']\n",
    "def fitness_function(chrm):\n",
    "    return random.randint(1,27) # very flawed evaluation function, will CHANGE\n",
    "\n",
    "reproduction(chromosomes, fitness_function)"
   ]
  }
 ],
 "metadata": {
  "kernelspec": {
   "display_name": "Python 3",
   "language": "python",
   "name": "python3"
  },
  "language_info": {
   "codemirror_mode": {
    "name": "ipython",
    "version": 3
   },
   "file_extension": ".py",
   "mimetype": "text/x-python",
   "name": "python",
   "nbconvert_exporter": "python",
   "pygments_lexer": "ipython3",
   "version": "3.7.1"
  }
 },
 "nbformat": 4,
 "nbformat_minor": 2
}
